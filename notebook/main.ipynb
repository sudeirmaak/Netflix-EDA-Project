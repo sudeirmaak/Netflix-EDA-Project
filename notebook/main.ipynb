{
 "cells": [
  {
   "cell_type": "markdown",
   "id": "2dfd9568",
   "metadata": {},
   "source": [
    "# Netflix EDA Project\n",
    "\n",
    "This project will explore the Netflix Titles dataset to uncover insights and trends about the types of content available, country-wise production, year-wise additions, and more.\n",
    "\n",
    "Both **pandas** and **SQL (SQLite)** are used for data analysis, and visualizations using **Matplotlib** and **Seaborn**.\n",
    "\n",
    "**Source:** (https://www.kaggle.com/datasets/shivamb/netflix-shows)\n"
   ]
  },
  {
   "cell_type": "markdown",
   "id": "861ac1f4",
   "metadata": {},
   "source": [
    "## Step 1: Set up"
   ]
  },
  {
   "cell_type": "code",
   "execution_count": null,
   "id": "a0780fe8",
   "metadata": {
    "vscode": {
     "languageId": "plaintext"
    }
   },
   "outputs": [],
   "source": [
    "\n"
   ]
  }
 ],
 "metadata": {
  "language_info": {
   "name": "python"
  }
 },
 "nbformat": 4,
 "nbformat_minor": 5
}
