{
 "cells": [
  {
   "cell_type": "markdown",
   "id": "2dfd9568",
   "metadata": {},
   "source": [
    "# Netflix EDA Project\n",
    "\n",
    "This project will explore the Netflix Titles dataset to uncover insights and trends about the types of content available, country-wise production, year-wise additions, and more.\n",
    "\n",
    "Both **pandas** and **SQL (SQLite)** are used for data analysis, and visualizations using **Matplotlib** and **Seaborn**.\n",
    "\n",
    "**Source:** (https://www.kaggle.com/datasets/shivamb/netflix-shows)\n"
   ]
  },
  {
   "cell_type": "markdown",
   "id": "861ac1f4",
   "metadata": {},
   "source": [
    "## Step 1: Clean the Data"
   ]
  },
  {
   "cell_type": "markdown",
   "id": "9237e59c",
   "metadata": {},
   "source": [
    "**Set Up:**"
   ]
  },
  {
   "cell_type": "code",
   "execution_count": 1,
   "id": "508096fa",
   "metadata": {},
   "outputs": [],
   "source": [
    "import pandas as pd\n",
    "import sqlite3\n",
    "import matplotlib.pyplot as plt\n",
    "import seaborn as sns\n",
    "\n",
    "sns.set(style=\"whitegrid\")\n",
    "sns.set_palette(\"pastel\")"
   ]
  },
  {
   "cell_type": "markdown",
   "id": "d4d47ac8",
   "metadata": {},
   "source": [
    "**Read the dataset:**"
   ]
  },
  {
   "cell_type": "code",
   "execution_count": 2,
   "id": "fdf62af6",
   "metadata": {},
   "outputs": [],
   "source": [
    "df = pd.read_csv('../data/raw_netflix_titles.csv')"
   ]
  },
  {
   "cell_type": "markdown",
   "id": "30f2d22b",
   "metadata": {},
   "source": [
    "**Check the properties:**"
   ]
  },
  {
   "cell_type": "code",
   "execution_count": 3,
   "id": "f08241be",
   "metadata": {},
   "outputs": [
    {
     "name": "stdout",
     "output_type": "stream",
     "text": [
      "(8807, 12)\n",
      "<class 'pandas.core.frame.DataFrame'>\n",
      "RangeIndex: 8807 entries, 0 to 8806\n",
      "Data columns (total 12 columns):\n",
      " #   Column        Non-Null Count  Dtype \n",
      "---  ------        --------------  ----- \n",
      " 0   show_id       8807 non-null   object\n",
      " 1   type          8807 non-null   object\n",
      " 2   title         8807 non-null   object\n",
      " 3   director      6173 non-null   object\n",
      " 4   cast          7982 non-null   object\n",
      " 5   country       7976 non-null   object\n",
      " 6   date_added    8797 non-null   object\n",
      " 7   release_year  8807 non-null   int64 \n",
      " 8   rating        8803 non-null   object\n",
      " 9   duration      8804 non-null   object\n",
      " 10  listed_in     8807 non-null   object\n",
      " 11  description   8807 non-null   object\n",
      "dtypes: int64(1), object(11)\n",
      "memory usage: 825.8+ KB\n",
      "show_id: 8807 unique values\n",
      "type: 2 unique values\n",
      "title: 8807 unique values\n",
      "director: 4528 unique values\n",
      "cast: 7692 unique values\n",
      "country: 748 unique values\n",
      "date_added: 1767 unique values\n",
      "release_year: 74 unique values\n",
      "rating: 17 unique values\n",
      "duration: 220 unique values\n",
      "listed_in: 514 unique values\n",
      "description: 8775 unique values\n"
     ]
    }
   ],
   "source": [
    "print(df.shape)\n",
    "df.info()\n",
    "df.head()\n",
    "df.tail()\n",
    "df.dtypes\n",
    "df.isnull().sum().sort_values(ascending=False)\n",
    "df.duplicated().sum()\n",
    "for col in df.columns:\n",
    "    print(f\"{col}: {df[col].nunique()} unique values\")"
   ]
  },
  {
   "cell_type": "markdown",
   "id": "7aaa5f48",
   "metadata": {},
   "source": [
    "**Findings:**\n",
    "\n",
    "Raw netflix titles dataset contains 12 columns and 8807 rows.\n",
    "\n",
    "Dataset contains 11 object colums and 1 integer column.\n",
    "\n",
    "Columns director, cast, country, date_added, rating and duration has missing values.\n",
    "\n",
    "Show_id and title has all unique data so there are no duplicates.\n",
    "\n",
    "Column durations has a mixed format.\n",
    "\n",
    "Date_added has string values and should be converted to a datetime object.\n"
   ]
  },
  {
   "cell_type": "markdown",
   "id": "b8354a5f",
   "metadata": {},
   "source": [
    "**Clean the data:**"
   ]
  },
  {
   "cell_type": "code",
   "execution_count": 4,
   "id": "5a18c0be",
   "metadata": {},
   "outputs": [],
   "source": [
    "df['director'] = df['director'].fillna('Unknown')\n",
    "df['cast'] = df['cast'].fillna('Unknown')\n",
    "df['country'] = df['country'].fillna('Unknown')\n",
    "df['rating'] = df['rating'].fillna('Unknown')\n",
    "df['duration'] = df['duration'].fillna('Unknown')\n",
    "\n",
    "df['date_added'] = pd.to_datetime(\n",
    "    df['date_added'].astype(str).str.strip(),\n",
    "    format='mixed',\n",
    "    errors='coerce'\n",
    ")\n",
    "\n",
    "df['duration_int'] = df['duration'].str.extract(r'(\\d+)').astype(float)\n",
    "df['duration_type'] = df['duration'].str.extract(r'([a-zA-Z]+)')\n",
    "\n",
    "df['year_added'] = df['date_added'].dt.year\n",
    "df['month_added'] = df['date_added'].dt.month\n",
    "\n",
    "df = df.dropna(subset=['year_added']).copy()\n",
    "df['year_added'] = df['year_added'].astype(int)\n",
    "\n",
    "cols_to_clean = ['type', 'rating', 'country', 'listed_in']\n",
    "for col in cols_to_clean:\n",
    "    df[col] = df[col].str.strip()"
   ]
  },
  {
   "cell_type": "markdown",
   "id": "053e66d5",
   "metadata": {},
   "source": [
    "**Save the clean data:**"
   ]
  },
  {
   "cell_type": "code",
   "execution_count": 5,
   "id": "f2e6ebcd",
   "metadata": {},
   "outputs": [],
   "source": [
    "df.to_csv('../data/cleaned_netflix_titles.csv', index=False)"
   ]
  },
  {
   "cell_type": "markdown",
   "id": "4e44598a",
   "metadata": {},
   "source": [
    "## Step 2: Create a Database"
   ]
  },
  {
   "cell_type": "markdown",
   "id": "a429e98b",
   "metadata": {},
   "source": [
    "**Create a DB for data analysis and exploration:**"
   ]
  },
  {
   "cell_type": "code",
   "execution_count": 6,
   "id": "297ece1f",
   "metadata": {},
   "outputs": [
    {
     "data": {
      "text/plain": [
       "8797"
      ]
     },
     "execution_count": 6,
     "metadata": {},
     "output_type": "execute_result"
    }
   ],
   "source": [
    "df = pd.read_csv('../data/cleaned_netflix_titles.csv')\n",
    "conn = sqlite3.connect('../data/netflix.db')\n",
    "df.to_sql('netflix', conn, if_exists='replace', index=False)"
   ]
  },
  {
   "cell_type": "markdown",
   "id": "daa49586",
   "metadata": {},
   "source": [
    "## Step 3: Explotary Analysis"
   ]
  },
  {
   "cell_type": "markdown",
   "id": "075572fa",
   "metadata": {},
   "source": [
    "**3.0: Check the properties of the cleaned data**"
   ]
  },
  {
   "cell_type": "code",
   "execution_count": 7,
   "id": "4aeeb1b6",
   "metadata": {},
   "outputs": [
    {
     "name": "stdout",
     "output_type": "stream",
     "text": [
      "<class 'pandas.core.frame.DataFrame'>\n",
      "RangeIndex: 8797 entries, 0 to 8796\n",
      "Data columns (total 16 columns):\n",
      " #   Column         Non-Null Count  Dtype  \n",
      "---  ------         --------------  -----  \n",
      " 0   show_id        8797 non-null   object \n",
      " 1   type           8797 non-null   object \n",
      " 2   title          8797 non-null   object \n",
      " 3   director       8797 non-null   object \n",
      " 4   cast           8797 non-null   object \n",
      " 5   country        8797 non-null   object \n",
      " 6   date_added     8797 non-null   object \n",
      " 7   release_year   8797 non-null   int64  \n",
      " 8   rating         8797 non-null   object \n",
      " 9   duration       8797 non-null   object \n",
      " 10  listed_in      8797 non-null   object \n",
      " 11  description    8797 non-null   object \n",
      " 12  duration_int   8794 non-null   float64\n",
      " 13  duration_type  8797 non-null   object \n",
      " 14  year_added     8797 non-null   int64  \n",
      " 15  month_added    8797 non-null   float64\n",
      "dtypes: float64(2), int64(2), object(12)\n",
      "memory usage: 1.1+ MB\n"
     ]
    },
    {
     "data": {
      "text/html": [
       "<div>\n",
       "<style scoped>\n",
       "    .dataframe tbody tr th:only-of-type {\n",
       "        vertical-align: middle;\n",
       "    }\n",
       "\n",
       "    .dataframe tbody tr th {\n",
       "        vertical-align: top;\n",
       "    }\n",
       "\n",
       "    .dataframe thead th {\n",
       "        text-align: right;\n",
       "    }\n",
       "</style>\n",
       "<table border=\"1\" class=\"dataframe\">\n",
       "  <thead>\n",
       "    <tr style=\"text-align: right;\">\n",
       "      <th></th>\n",
       "      <th>release_year</th>\n",
       "      <th>duration_int</th>\n",
       "      <th>year_added</th>\n",
       "      <th>month_added</th>\n",
       "    </tr>\n",
       "  </thead>\n",
       "  <tbody>\n",
       "    <tr>\n",
       "      <th>count</th>\n",
       "      <td>8797.000000</td>\n",
       "      <td>8794.000000</td>\n",
       "      <td>8797.000000</td>\n",
       "      <td>8797.000000</td>\n",
       "    </tr>\n",
       "    <tr>\n",
       "      <th>mean</th>\n",
       "      <td>2014.183472</td>\n",
       "      <td>69.920173</td>\n",
       "      <td>2018.871888</td>\n",
       "      <td>6.654996</td>\n",
       "    </tr>\n",
       "    <tr>\n",
       "      <th>std</th>\n",
       "      <td>8.822191</td>\n",
       "      <td>50.797005</td>\n",
       "      <td>1.574243</td>\n",
       "      <td>3.436554</td>\n",
       "    </tr>\n",
       "    <tr>\n",
       "      <th>min</th>\n",
       "      <td>1925.000000</td>\n",
       "      <td>1.000000</td>\n",
       "      <td>2008.000000</td>\n",
       "      <td>1.000000</td>\n",
       "    </tr>\n",
       "    <tr>\n",
       "      <th>25%</th>\n",
       "      <td>2013.000000</td>\n",
       "      <td>2.000000</td>\n",
       "      <td>2018.000000</td>\n",
       "      <td>4.000000</td>\n",
       "    </tr>\n",
       "    <tr>\n",
       "      <th>50%</th>\n",
       "      <td>2017.000000</td>\n",
       "      <td>88.000000</td>\n",
       "      <td>2019.000000</td>\n",
       "      <td>7.000000</td>\n",
       "    </tr>\n",
       "    <tr>\n",
       "      <th>75%</th>\n",
       "      <td>2019.000000</td>\n",
       "      <td>106.000000</td>\n",
       "      <td>2020.000000</td>\n",
       "      <td>10.000000</td>\n",
       "    </tr>\n",
       "    <tr>\n",
       "      <th>max</th>\n",
       "      <td>2021.000000</td>\n",
       "      <td>312.000000</td>\n",
       "      <td>2021.000000</td>\n",
       "      <td>12.000000</td>\n",
       "    </tr>\n",
       "  </tbody>\n",
       "</table>\n",
       "</div>"
      ],
      "text/plain": [
       "       release_year  duration_int   year_added  month_added\n",
       "count   8797.000000   8794.000000  8797.000000  8797.000000\n",
       "mean    2014.183472     69.920173  2018.871888     6.654996\n",
       "std        8.822191     50.797005     1.574243     3.436554\n",
       "min     1925.000000      1.000000  2008.000000     1.000000\n",
       "25%     2013.000000      2.000000  2018.000000     4.000000\n",
       "50%     2017.000000     88.000000  2019.000000     7.000000\n",
       "75%     2019.000000    106.000000  2020.000000    10.000000\n",
       "max     2021.000000    312.000000  2021.000000    12.000000"
      ]
     },
     "execution_count": 7,
     "metadata": {},
     "output_type": "execute_result"
    }
   ],
   "source": [
    "df = pd.read_sql('SELECT * FROM netflix', conn)\n",
    "df.head()\n",
    "df.info()\n",
    "df.describe()"
   ]
  },
  {
   "cell_type": "markdown",
   "id": "aa71d701",
   "metadata": {},
   "source": [
    "**3.1: Movies vs TV Shows**\n",
    "\n",
    "Analyze the distribution of the content types on Netflix.\n",
    "\n",
    "**SQL Query:**"
   ]
  },
  {
   "cell_type": "code",
   "execution_count": 8,
   "id": "4803aa16",
   "metadata": {},
   "outputs": [],
   "source": [
    "query = '''\n",
    "SELECT type, COUNT(*) as count\n",
    "FROM netflix\n",
    "GROUP By type\n",
    "'''\n",
    "\n",
    "df_type = pd.read_sql(query, conn)"
   ]
  },
  {
   "cell_type": "markdown",
   "id": "6fe1d531",
   "metadata": {},
   "source": [
    "**Visualization:**"
   ]
  },
  {
   "cell_type": "code",
   "execution_count": 9,
   "id": "639ce340",
   "metadata": {},
   "outputs": [
    {
     "data": {
      "image/png": "[encoded data removed]",
      "text/plain": [
       "<Figure size 640x480 with 1 Axes>"
      ]
     },
     "metadata": {},
     "output_type": "display_data"
    }
   ],
   "source": [
    "sns.barplot(data=df_type, x='type', y='count')\n",
    "plt.title('Distribution of Content Types')\n",
    "plt.xlabel('Type')\n",
    "plt.ylabel('Count')\n",
    "plt.tight_layout()\n",
    "plt.savefig(\"../visuals/content_type_distribution.png\")\n",
    "plt.show()"
   ]
  },
  {
   "cell_type": "markdown",
   "id": "721eb130",
   "metadata": {},
   "source": [
    "**3.2: The Growth of Netflix Content Over the Years**\n",
    "\n",
    "Analyze the number of movies and TV series added to Netflix each year.\n",
    "\n",
    "**SQL Query:**"
   ]
  },
  {
   "cell_type": "code",
   "execution_count": 13,
   "id": "272da282",
   "metadata": {},
   "outputs": [],
   "source": [
    "query = '''\n",
    "SELECT year_added, COUNT(*) as title_count\n",
    "FROM netflix\n",
    "WHERE year_added IS NOT NULL\n",
    "GROUP BY year_added\n",
    "ORDER BY year_added\n",
    "'''\n",
    "\n",
    "df_growth = pd.read_sql(query, conn)"
   ]
  },
  {
   "cell_type": "markdown",
   "id": "37f47306",
   "metadata": {},
   "source": [
    "**Visualization:**"
   ]
  },
  {
   "cell_type": "code",
   "execution_count": 15,
   "id": "ecd6a749",
   "metadata": {},
   "outputs": [
    {
     "data": {
      "image/png": "[encoded data removed]",
      "text/plain": [
       "<Figure size 640x480 with 1 Axes>"
      ]
     },
     "metadata": {},
     "output_type": "display_data"
    }
   ],
   "source": [
    "sns.lineplot(data=df_growth, x='year_added', y='title_count')\n",
    "plt.title('Growth of Netflix Content')\n",
    "plt.xlabel('Year Added')\n",
    "plt.ylabel('Growth')\n",
    "plt.xticks(rotation=45)\n",
    "plt.tight_layout()\n",
    "plt.savefig(\"../visuals/content_growth.png\")\n",
    "plt.show()"
   ]
  },
  {
   "cell_type": "markdown",
   "id": "0d4d58fb",
   "metadata": {},
   "source": [
    "**3.3: Most Common Genres**\n",
    "\n",
    "Analyze the data set to find top 10 most common genres on Netflix.\n",
    "\n",
    "**SQL Query:**"
   ]
  },
  {
   "cell_type": "code",
   "execution_count": 16,
   "id": "84c940fe",
   "metadata": {},
   "outputs": [],
   "source": [
    "query = ''' \n",
    "SELECT show_id, listed_in\n",
    "FROM netflix\n",
    "'''\n",
    "\n",
    "df_genres = pd.read_sql(query, conn)"
   ]
  },
  {
   "cell_type": "markdown",
   "id": "2cf75df6",
   "metadata": {},
   "source": [
    "**Clean and explode the genres:**"
   ]
  },
  {
   "cell_type": "code",
   "execution_count": 23,
   "id": "bc79b349",
   "metadata": {},
   "outputs": [],
   "source": [
    "df_genres = df.copy()\n",
    "df_genres['genre'] = df_genres['listed_in'].str.split(',')\n",
    "df_genres = df_genres.explode('genre')\n",
    "df_genres['genre'] = df_genres['genre'].str.strip()\n",
    "\n",
    "genre_counts = df_genres['genre'].value_counts().head(10)\n",
    "\n",
    "top_genres = genre_counts.reset_index()\n",
    "top_genres.columns = ['genre', 'count']\n"
   ]
  },
  {
   "cell_type": "markdown",
   "id": "14d6998c",
   "metadata": {},
   "source": [
    "**Visualization:**"
   ]
  },
  {
   "cell_type": "code",
   "execution_count": 24,
   "id": "a1831ad8",
   "metadata": {},
   "outputs": [
    {
     "data": {
      "image/png": "[encoded data removed]",
      "text/plain": [
       "<Figure size 640x480 with 1 Axes>"
      ]
     },
     "metadata": {},
     "output_type": "display_data"
    }
   ],
   "source": [
    "sns.barplot(data=top_genres, x='count', y='genre')\n",
    "plt.title('Top 10 Most Watched Genres')\n",
    "plt.xlabel('Number')\n",
    "plt.ylabel('Genre')\n",
    "plt.tight_layout()\n",
    "plt.savefig(\"../visuals/top_genres.png\")\n",
    "plt.show()"
   ]
  },
  {
   "cell_type": "code",
   "execution_count": null,
   "id": "b55a156d",
   "metadata": {},
   "outputs": [],
   "source": []
  }
 ],
 "metadata": {
  "kernelspec": {
   "display_name": "venv",
   "language": "python",
   "name": "python3"
  },
  "language_info": {
   "codemirror_mode": {
    "name": "ipython",
    "version": 3
   },
   "file_extension": ".py",
   "mimetype": "text/x-python",
   "name": "python",
   "nbconvert_exporter": "python",
   "pygments_lexer": "ipython3",
   "version": "3.12.4"
  }
 },
 "nbformat": 4,
 "nbformat_minor": 5
}
