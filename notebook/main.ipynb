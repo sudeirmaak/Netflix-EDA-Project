{
 "cells": [
  {
   "cell_type": "markdown",
   "id": "2dfd9568",
   "metadata": {},
   "source": [
    "# Netflix EDA Project\n",
    "\n",
    "This project will explore the Netflix Titles dataset to uncover insights and trends about the types of content available, country-wise production, year-wise additions, and more.\n",
    "\n",
    "Both **pandas** and **SQL (SQLite)** are used for data analysis, and visualizations using **Matplotlib** and **Seaborn**.\n",
    "\n",
    "**Source:** (https://www.kaggle.com/datasets/shivamb/netflix-shows)\n"
   ]
  },
  {
   "cell_type": "markdown",
   "id": "861ac1f4",
   "metadata": {},
   "source": [
    "## Step 1: Clean the Data"
   ]
  },
  {
   "cell_type": "markdown",
   "id": "d4d47ac8",
   "metadata": {},
   "source": [
    "Read the dataset:"
   ]
  },
  {
   "cell_type": "code",
   "execution_count": 2,
   "id": "fdf62af6",
   "metadata": {},
   "outputs": [],
   "source": [
    "import pandas as pd\n",
    "\n",
    "df = pd.read_csv('../data/raw_netflix_titles.csv')\n"
   ]
  },
  {
   "cell_type": "markdown",
   "id": "30f2d22b",
   "metadata": {},
   "source": [
    "Check the properties:"
   ]
  },
  {
   "cell_type": "code",
   "execution_count": 4,
   "id": "f08241be",
   "metadata": {},
   "outputs": [
    {
     "name": "stdout",
     "output_type": "stream",
     "text": [
      "(8807, 12)\n",
      "<class 'pandas.core.frame.DataFrame'>\n",
      "RangeIndex: 8807 entries, 0 to 8806\n",
      "Data columns (total 12 columns):\n",
      " #   Column        Non-Null Count  Dtype \n",
      "---  ------        --------------  ----- \n",
      " 0   show_id       8807 non-null   object\n",
      " 1   type          8807 non-null   object\n",
      " 2   title         8807 non-null   object\n",
      " 3   director      6173 non-null   object\n",
      " 4   cast          7982 non-null   object\n",
      " 5   country       7976 non-null   object\n",
      " 6   date_added    8797 non-null   object\n",
      " 7   release_year  8807 non-null   int64 \n",
      " 8   rating        8803 non-null   object\n",
      " 9   duration      8804 non-null   object\n",
      " 10  listed_in     8807 non-null   object\n",
      " 11  description   8807 non-null   object\n",
      "dtypes: int64(1), object(11)\n",
      "memory usage: 825.8+ KB\n",
      "show_id: 8807 unique values\n",
      "type: 2 unique values\n",
      "title: 8807 unique values\n",
      "director: 4528 unique values\n",
      "cast: 7692 unique values\n",
      "country: 748 unique values\n",
      "date_added: 1767 unique values\n",
      "release_year: 74 unique values\n",
      "rating: 17 unique values\n",
      "duration: 220 unique values\n",
      "listed_in: 514 unique values\n",
      "description: 8775 unique values\n"
     ]
    }
   ],
   "source": [
    "print(df.shape)\n",
    "df.info()\n",
    "df.head()\n",
    "df.tail()\n",
    "df.dtypes\n",
    "df.isnull().sum().sort_values(ascending=False)\n",
    "df.duplicated().sum()\n",
    "for col in df.columns:\n",
    "    print(f\"{col}: {df[col].nunique()} unique values\")\n"
   ]
  },
  {
   "cell_type": "markdown",
   "id": "7aaa5f48",
   "metadata": {},
   "source": [
    "**Findings:**\n",
    "\n",
    "Raw netflix titles dataset contains 12 columns and 8807 rows.\n",
    "\n",
    "Dataset contains 11 object colums and 1 integer column.\n",
    "\n",
    "Columns director, cast, country, date_added, rating and duration has missing values.\n",
    "\n",
    "Show_id and title has all unique data so there are no duplicates.\n",
    "\n",
    "Column durations has a mixed format.\n",
    "\n",
    "Date_added has string values and should be converted to a datetime object.\n"
   ]
  },
  {
   "cell_type": "markdown",
   "id": "b8354a5f",
   "metadata": {},
   "source": [
    "Clean the data:"
   ]
  },
  {
   "cell_type": "code",
   "execution_count": 9,
   "id": "5a18c0be",
   "metadata": {},
   "outputs": [],
   "source": [
    "df['director'] = df['director'].fillna('Unknown')\n",
    "df['cast'] = df['cast'].fillna('Unknown')\n",
    "df['country'] = df['country'].fillna('Unknown')\n",
    "df['date_added'] = df['date_added'].fillna('Unknown')\n",
    "df['rating'] = df['rating'].fillna('Unknown')\n",
    "df['duration'] = df['duration'].fillna('Unknown')\n",
    "\n",
    "df['date_added'] = pd.to_datetime(\n",
    "    df['date_added'].astype(str).str.strip(),\n",
    "    format='mixed',\n",
    "    errors='coerce'\n",
    ")\n",
    "\n",
    "df['duration_int'] = df['duration'].str.extract(r'(\\d+)').astype(float)\n",
    "df['duration_type'] = df['duration'].str.extract(r'([a-zA-Z]+)')\n",
    "\n",
    "df['year_added'] = df['date_added'].dt.year\n",
    "df['month_added'] = df['date_added'].dt.month\n",
    "\n",
    "cols_to_clean = ['type', 'rating', 'country', 'listed_in']\n",
    "for col in cols_to_clean:\n",
    "    df[col] = df[col].str.strip()"
   ]
  },
  {
   "cell_type": "markdown",
   "id": "053e66d5",
   "metadata": {},
   "source": [
    "Save the clean data:"
   ]
  },
  {
   "cell_type": "code",
   "execution_count": 12,
   "id": "f2e6ebcd",
   "metadata": {},
   "outputs": [],
   "source": [
    "df.to_csv('../data/cleaned_netflix_titles.csv', index=False)"
   ]
  },
  {
   "cell_type": "code",
   "execution_count": null,
   "id": "297ece1f",
   "metadata": {},
   "outputs": [],
   "source": []
  }
 ],
 "metadata": {
  "kernelspec": {
   "display_name": "venv",
   "language": "python",
   "name": "python3"
  },
  "language_info": {
   "codemirror_mode": {
    "name": "ipython",
    "version": 3
   },
   "file_extension": ".py",
   "mimetype": "text/x-python",
   "name": "python",
   "nbconvert_exporter": "python",
   "pygments_lexer": "ipython3",
   "version": "3.12.4"
  }
 },
 "nbformat": 4,
 "nbformat_minor": 5
}
